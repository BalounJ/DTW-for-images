{
 "cells": [
  {
   "cell_type": "code",
   "execution_count": 1,
   "metadata": {},
   "outputs": [],
   "source": [
    "import numpy as np\n",
    "from dtw import dtw_basic, dtw_fast\n",
    "\n",
    "s1 = np.array([0, 1, 1, 3, 5])\n",
    "s2 = np.array([0, 1, 5, 3, 4, 0, 1, 5, 3])"
   ]
  },
  {
   "cell_type": "markdown",
   "metadata": {},
   "source": [
    "# Základní varianta DTW"
   ]
  },
  {
   "cell_type": "code",
   "execution_count": 2,
   "metadata": {},
   "outputs": [
    {
     "name": "stdout",
     "output_type": "stream",
     "text": [
      "10\n",
      "[[ 0  1  6  9 13 13 14 19 22]\n",
      " [ 1  0  4  6  9 10 10 14 16]\n",
      " [ 2  0  4  6  9 10 10 14 16]\n",
      " [ 5  2  2  2  3  6  8 10 10]\n",
      " [10  6  2  4  3  8 10  8 10]]\n"
     ]
    }
   ],
   "source": [
    "[cost, D] = dtw_basic(s1, s2)\n",
    "print(cost)\n",
    "print(D)"
   ]
  },
  {
   "cell_type": "markdown",
   "metadata": {},
   "source": [
    "#  Varianta DTW s omezením výpočtu pro zvolené okno"
   ]
  },
  {
   "cell_type": "code",
   "execution_count": 3,
   "metadata": {},
   "outputs": [
    {
     "name": "stdout",
     "output_type": "stream",
     "text": [
      "10\n",
      "[[         0          1          2 2147483647 2147483647]\n",
      " [         1          0          0 2147483647 2147483647]\n",
      " [         6          4          4          2 2147483647]\n",
      " [         9          6          6          2 2147483647]\n",
      " [        13          9          9          3          3]\n",
      " [        13         10         10          6          8]\n",
      " [2147483647         10         10          8         10]\n",
      " [2147483647         14         14         10          8]\n",
      " [2147483647 2147483647         16         10         10]]\n"
     ]
    }
   ],
   "source": [
    "[cost, D] = dtw_fast(s1, s2, window=5)\n",
    "print(cost)\n",
    "print(D)"
   ]
  },
  {
   "cell_type": "code",
   "execution_count": 4,
   "metadata": {},
   "outputs": [
    {
     "name": "stdout",
     "output_type": "stream",
     "text": [
      "14\n",
      "[[         0          1 2147483647 2147483647 2147483647]\n",
      " [         1          0 2147483647 2147483647 2147483647]\n",
      " [         6          4          4 2147483647 2147483647]\n",
      " [         9          6          6 2147483647 2147483647]\n",
      " [2147483647          9          9          7 2147483647]\n",
      " [2147483647         10         10         10 2147483647]\n",
      " [2147483647 2147483647         10         12         14]\n",
      " [2147483647 2147483647         14         12         12]\n",
      " [2147483647 2147483647 2147483647         12         14]]\n"
     ]
    }
   ],
   "source": [
    "[cost, D] = dtw_fast(s1, s2, window=3)\n",
    "print(cost)\n",
    "print(D)"
   ]
  },
  {
   "cell_type": "code",
   "execution_count": 5,
   "metadata": {},
   "outputs": [
    {
     "name": "stdout",
     "output_type": "stream",
     "text": [
      "17\n",
      "[[         0 2147483647 2147483647 2147483647 2147483647]\n",
      " [         1 2147483647 2147483647 2147483647 2147483647]\n",
      " [2147483647          5 2147483647 2147483647 2147483647]\n",
      " [2147483647          7 2147483647 2147483647 2147483647]\n",
      " [2147483647 2147483647         10 2147483647 2147483647]\n",
      " [2147483647 2147483647         11 2147483647 2147483647]\n",
      " [2147483647 2147483647 2147483647         13 2147483647]\n",
      " [2147483647 2147483647 2147483647         15 2147483647]\n",
      " [2147483647 2147483647 2147483647 2147483647         17]]\n"
     ]
    }
   ],
   "source": [
    "[cost, D] = dtw_fast(s1, s2, window=1)\n",
    "print(cost)\n",
    "print(D)"
   ]
  }
 ],
 "metadata": {
  "kernelspec": {
   "display_name": "Python 3",
   "language": "python",
   "name": "python3"
  },
  "language_info": {
   "codemirror_mode": {
    "name": "ipython",
    "version": 3
   },
   "file_extension": ".py",
   "mimetype": "text/x-python",
   "name": "python",
   "nbconvert_exporter": "python",
   "pygments_lexer": "ipython3",
   "version": "3.6.2"
  }
 },
 "nbformat": 4,
 "nbformat_minor": 2
}
